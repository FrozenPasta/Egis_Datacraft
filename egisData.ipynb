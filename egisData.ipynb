{
 "cells": [
  {
   "cell_type": "markdown",
   "metadata": {},
   "source": [
    "The objective of this project is indicated in the website:  \n",
    "\"Egis contribue à l’exploitation du contrôle du stationnement sur voirie pour plusieurs villes, en France et à l’international.\n",
    "Des véhicules équipés de caméras prennent des photos des véhicules stationnés.\n",
    "Puis, à partir du numéro de la plaque, de la géolocalisation et de l’horodatage, un processus est initié pour contrôler la validité du stationnement et aller jusqu’à l’émission d’un forfait post stationnement si nécessaire. \n",
    "Nous sommes convaincus que l’analyse de ces données permettrait d’optimiser l’activité d’exploitation d’une part et permettrait de réduire le taux d’infraction constaté.\n",
    "Nous suggérons donc de mettre au point un modèle de Machine Learning dans le but d’Identifier les zones / horaires où il y a le plus d’infractions et optimiser les trajets des véhicules de contrôle du stationnement en conséquence.\""
   ]
  },
  {
   "cell_type": "markdown",
   "metadata": {},
   "source": [
    "# Import Libraries"
   ]
  },
  {
   "cell_type": "code",
   "execution_count": 5,
   "metadata": {},
   "outputs": [],
   "source": [
    "import pandas as pd\n",
    "import numpy as np\n",
    "from sklearn.ensemble import RandomForestRegressor\n",
    "from sklearn.model_selection import train_test_split\n",
    "from scipy.stats import spearmanr"
   ]
  },
  {
   "cell_type": "code",
   "execution_count": 6,
   "metadata": {},
   "outputs": [],
   "source": [
    "# Split datasets into features (X) and target (y)\n",
    "X_train = pd.read_csv('x_train_final_asAbTs5.csv', sep=',', header=0, encoding='utf-8')\n",
    "y_train = pd.read_csv('y_train_final_YYyFil7.csv', sep=',', header=0, encoding='utf-8')\n",
    "X_test = pd.read_csv('x_test_final_fIrnA7Q.csv', sep=',', header=0, encoding='utf-8')"
   ]
  },
  {
   "cell_type": "markdown",
   "metadata": {},
   "source": [
    "# Handling of Na values\n",
    "There are Na values for the HauteurNeige and the ForceVent parameters. These need to be filtered."
   ]
  },
  {
   "cell_type": "code",
   "execution_count": 13,
   "metadata": {},
   "outputs": [
    {
     "name": "stdout",
     "output_type": "stream",
     "text": [
      " Unnamed: 0  total_count  longitude_scaled  latitude_scaled  Precipitations  HauteurNeige  Temperature  ForceVent  day_of_week  month_of_year  hour\n",
      "     556784            9          0.999048         0.996619             1.2           0.0         14.5        5.1            5             12    13\n",
      "    5040344            2          0.999180         0.996764             0.0           0.0         23.0        2.6            5              1    12\n",
      "    1147476            1          0.999015         0.995753             0.0           0.0          2.7        2.1            6              8     9\n",
      "    1909249            5          0.998371         0.996096             0.0           0.0          5.5        3.6            2              6    10\n",
      "    3947872            1          0.999070         0.996565             0.0           0.0         18.5        3.4            4              8    15\n",
      "    2416669            1          0.999063         0.995738             0.0           0.0         19.4        1.4            3              9    12\n",
      "    5193804            5          0.998557         0.995804             0.0           0.0         20.5        3.8            6              1     7\n",
      "    1146247            2          0.999275         0.996170             0.0           0.0         23.0        1.2            4              3    12\n",
      "    1550239            2          0.999008         0.996503             0.0           0.0         22.8        2.6            2              4    11\n",
      "    4055583            1          0.999342         0.996352             0.0           0.0         14.7        2.6            6             11    15\n",
      "    4538634            2          0.998412         0.996051             0.0           0.0         19.0        6.3            2              4    13\n",
      "    2069794            1          0.998677         0.996161             0.0           0.0          5.0        1.5            3              6     9\n",
      "    4655865            7          0.998460         0.996158             3.3           0.0         21.3        5.0            6              1    14\n",
      "    3715300            5          0.998644         0.996169             0.0           0.0         18.6        4.8            6              2    10\n",
      "    3443688           10          0.999265         0.996751             0.0           0.0          7.7        3.8            4              7     9\n",
      "    1454060            1          0.999196         0.996619             0.0           0.0         20.4        3.2            1              3     9\n",
      "    4509832            4          0.998904         0.995960             0.0           0.0         10.1        4.4            4             10    11\n",
      "    4626654            9          0.998950         0.995802             0.0           0.0         25.8        2.2            4             12     7\n",
      "    2092539           19          0.999118         0.996220             0.0           0.0         19.8        3.9            5             11    16\n",
      "    3371009            9          0.999302         0.996641             0.0           0.0         15.7        0.6            1              4     8\n",
      "    2853314            9          0.998734         0.996135             0.0           0.0         22.5        4.8            3              3    11\n",
      "    5401534            6          0.999301         0.996135             0.0           0.0         22.2        2.5            5              1    11\n",
      "     180938            1          0.998533         0.995967             1.0           0.0         13.1        3.2            5              5    16\n",
      "    3879588           29          0.999332         0.996555             0.0           0.0          9.0        2.0            5              6    18\n",
      "    5532533            1          0.998670         0.996015             0.0           0.0         11.1        3.6            4              9    18\n",
      "    1224999            1          0.998753         0.995889             0.0           0.0         22.1        2.7            4             12    13\n",
      "    4837718           16          0.998495         0.996052             0.0           0.0          9.8        6.0            5              5    10\n",
      "    1530735            6          0.998402         0.995928             0.0           0.0         24.4        1.8            3              2    17\n",
      "    4505147            9          0.998830         0.996286             0.4           0.0         11.5        2.7            5              5    17\n",
      "     671943           18          0.998567         0.996064             0.0           0.0          6.1        3.4            6              7     9\n",
      "    2827164            1          0.999109         0.996441             0.0           0.0         29.7        2.0            3              3    11\n",
      "    5912032            2          0.998906         0.996614             0.0           0.0         11.6        2.4            2              4     7\n",
      "    4204859            3          0.998346         0.996042             0.0           0.0         17.7        1.7            2              9    14\n",
      "     917256            2          0.999070         0.996590             0.0           0.0         -1.6        2.7            2              7    17\n",
      "    3375966            2          0.999087         0.996417             0.0           0.0         18.9        3.3            5             11    17\n",
      "    5436786            1          0.998850         0.996078             0.0           0.0         11.8        3.5            4              9    17\n",
      "    2890343            1          0.998715         0.996176             0.0           0.0         11.8        6.1            5              7    13\n",
      "    5545949            8          0.999127         0.996699             0.0           0.0         17.2        2.0            4              4     8\n",
      "    3611798           18          0.999275         0.996519             0.0           0.0         20.1        6.5            3              2    17\n",
      "    2979304            4          0.999087         0.996553             0.0           0.0         18.3        1.4            5              4    11\n",
      "     940996            1          0.998969         0.996469             0.0           0.0         16.5        6.1            3             11    13\n",
      "    1900892            2          0.998519         0.995887             0.0           0.0          7.6        5.1            2              9    12\n",
      "    4096245            1          0.998721         0.995972             0.0           0.0         15.5        2.4            5              4    11\n",
      "    3515114            2          0.999308         0.996228             0.0           0.0         19.6        1.8            3              4     9\n",
      "     799775           38          0.998421         0.996187             0.0           0.0         19.7        2.8            3             11    13\n",
      "    4939890            1          0.999198         0.996290             0.0           0.0         -0.7        2.7            3              7     9\n",
      "    3131190            1          0.998668         0.995877             0.0           0.0         10.6        4.6            3              7    17\n",
      "    4295803            6          0.998390         0.996202             0.0           0.0         10.7        3.0            1              9    10\n",
      "    2784030           34          0.999352         0.996304             0.0           0.0          7.2        3.6            6              7    15\n",
      "    5713263            1          0.998823         0.995775             0.0           0.0          5.7        6.4            2              9    10\n",
      "    4773411            1          0.998458         0.996278             0.0           1.0          2.7        4.0            4              7    13\n",
      "    1840768            5          0.999053         0.995839             0.0           0.0         15.0        3.9            3              4    15\n",
      "    5429584            3          0.998917         0.995958             0.2           0.0         12.1        4.0            2              9    14\n",
      "    4635647           13          0.998430         0.996296             0.0           0.0         14.4        4.0            3              7    13\n",
      "    4983649            1          0.999100         0.996284             0.0           0.0         14.1        3.3            6              4    16\n",
      "    1251423            9          0.999193         0.996669             0.0           0.0         31.0        2.6            5              2    17\n",
      "     473789            9          0.998432         0.995932             0.0           0.0         10.9        5.0            4              7    14\n",
      "    4628159           13          0.998557         0.996047             0.0           0.0          5.9        4.0            2              6    10\n",
      "    4782236            8          0.999119         0.995841             0.0           0.0         18.3        1.7            2              3     9\n",
      "    2933031            1          0.998541         0.996099             0.4           0.0         11.5        2.7            5              5    17\n",
      "    2134029            7          0.998631         0.995791             0.0           0.0         16.9        3.3            3              3     8\n",
      "      42067           10          0.999142         0.995998             0.4           0.0         17.0        2.3            3              4    12\n",
      "    4246694           60          0.999290         0.996752             0.0           0.0         11.0        3.7            6              7    15\n",
      "    2762084            1          0.998678         0.995742             0.0           0.0          6.1        3.4            6              7     9\n",
      "    3666788           62          0.999350         0.996127             0.0           0.0         22.6        2.8            1             12    12\n",
      "    1081835            1          0.999254         0.996186             0.0           0.0          2.3        1.1            5              7    11\n",
      "    5921315           16          0.998453         0.996353             0.6           0.0         16.2        5.2            1              5    12\n",
      "    1583037           10          0.998899         0.996123             0.0           0.0         10.8        3.5            1              8    12\n",
      "    3243169           29          0.998619         0.995763             0.2           0.0         11.8        3.9            5              7     8\n",
      "     822717            2          0.999043         0.996672             0.0           0.0         32.0        2.2            6              3    11\n",
      "    3650465           26          0.999053         0.996526             0.0           0.0         23.9        1.4            6              3    11\n",
      "    5310424           18          0.999180         0.996316             0.0           0.0         13.4        4.0            4              4     9\n",
      "    2818545            1          0.998901         0.995806             3.1           0.0         16.5        2.1            4              4     8\n",
      "    4086717            2          0.998478         0.996178             1.2           0.0          9.1        3.9            4              5    11\n",
      "    2925081            4          0.999290         0.996337             0.0           0.0          8.3        2.6            3              5    16\n",
      "    5299151           14          0.999277         0.996373             0.0           0.0         26.8        2.4            3              2    16\n",
      "    3880098            2          0.999009         0.996592             0.2           0.0         15.3        5.2            1             12    14\n",
      "    2130022           23          0.998458         0.996272             0.0           0.0         15.7        6.5            5             10    13\n",
      "    2153687            1          0.998978         0.996513             0.0           NaN         20.7        5.1            6             12    17\n",
      "    5640142            1          0.999203         0.996403             0.0           0.0         10.1        5.2            4              5     9\n",
      "    1709406            1          0.999099         0.995695             0.0           0.0         15.8        1.6            4              9    10\n",
      "    1396699            1          0.999076         0.995877             0.0           NaN         20.1        1.6            6             12    10\n",
      "    4544453            2          0.999257         0.996661             0.0           0.0         10.0        2.7            5              5    15\n",
      "    2194801            1          0.998616         0.995902             0.0           0.0         19.0        1.9            5              1    10\n",
      "    1526070            1          0.998435         0.995815             0.0           0.0         13.3        3.5            4              7    13\n",
      "    2428395            6          0.999441         0.996004             0.0           0.0         14.4        2.1            5             10     8\n",
      "    2029969            1          0.998412         0.996382             0.0           0.0         10.3        3.7            1              5     8\n",
      "     404770            7          0.998659         0.995989             0.0           0.0         24.8        1.6            4              1    16\n",
      "    2443264            1          0.999291         0.996488             0.0           0.0         24.4        3.1            4              2    15\n",
      "    4774282           41          0.999269         0.996281             0.0           0.0         16.8        1.6            4              9    11\n",
      "    4618480            6          0.998507         0.996410             0.0           0.0         18.6        3.8            2              2     9\n",
      "    1806653           11          0.998957         0.996066             0.0           0.0         15.0        2.8            6              2     7\n",
      "    3310345            1          0.998380         0.996122             0.0           0.0         11.6        4.1            4              6    17\n",
      "    4074779            5          0.998558         0.996049             0.0           0.0         20.9        4.7            2              3    14\n",
      "    3449578            7          0.998768         0.996266             0.0           0.0          9.5        4.5            2              9    15\n",
      "    1095269            1          0.998922         0.996100             0.0           0.0          8.3        2.6            3              5    16\n",
      "    2728097            1          0.998858         0.996076             0.0           0.0         25.7        2.9            4              2    16\n",
      "     266783            1          0.998434         0.995998             0.0           0.0         20.1        2.1            2              2     9\n",
      "    4838873            6          0.998431         0.995863             0.0           0.0         16.7        3.2            1             11    16\n",
      "    4694027            8          0.998702         0.995843             0.0           0.0         24.8        4.4            6              2    14\n"
     ]
    }
   ],
   "source": [
    "print(X_train.head(100).to_string(index=False))\n",
    "# print(X_test.isnull().sum())\n",
    "# print(y_train.isnull().sum())"
   ]
  },
  {
   "cell_type": "code",
   "execution_count": null,
   "metadata": {},
   "outputs": [],
   "source": [
    "# Handle missing or invalid values\n",
    "X_train = X_train.replace([np.inf, -np.inf], np.nan).dropna()\n",
    "y_train = y_train.replace([np.inf, -np.inf], np.nan).dropna()\n",
    "X_test = X_test.replace([np.inf, -np.inf], np.nan).dropna()\n",
    "\n",
    "# Ensure alignment between X_train and y_train after dropping rows\n",
    "X_train, y_train = X_train.align(y_train, join='inner', axis=0)"
   ]
  },
  {
   "cell_type": "code",
   "execution_count": null,
   "metadata": {},
   "outputs": [],
   "source": [
    "# Split training data into training and validation sets\n",
    "X_train, X_val, y_train, y_val = train_test_split(X_train, y_train, test_size=0.2, random_state=42)\n"
   ]
  },
  {
   "cell_type": "code",
   "execution_count": null,
   "metadata": {},
   "outputs": [],
   "source": [
    "# Train RandomForest model\n",
    "model = RandomForestRegressor(random_state=42)\n",
    "model.fit(X_train, y_train.values)  # Flatten y_train if it's a single column"
   ]
  },
  {
   "cell_type": "code",
   "execution_count": null,
   "metadata": {},
   "outputs": [],
   "source": [
    "# Predict on test set\n",
    "y_pred = model.predict(X_test)"
   ]
  },
  {
   "cell_type": "code",
   "execution_count": null,
   "metadata": {},
   "outputs": [],
   "source": [
    "# Evaluate using Spearman correlation\n",
    "# Assuming you have the actual target values for the test set (y_test)\n",
    "# Replace 'y_test_actual.csv' with the actual file containing test set targets\n",
    "y_test = pd.read_csv('y_test_actual.csv', sep=',', header=0, encoding='utf-8')\n",
    "y_test = y_test.replace([np.inf, -np.inf], np.nan).dropna()\n"
   ]
  },
  {
   "cell_type": "code",
   "execution_count": null,
   "metadata": {},
   "outputs": [],
   "source": [
    "# Ensure alignment between y_test and y_pred\n",
    "y_test = y_test.iloc[:len(y_pred)]\n",
    "spearman_corr, _ = spearmanr(y_test.values, y_pred)\n",
    "\n",
    "print(f\"Spearman Correlation: {spearman_corr}\")\n"
   ]
  }
 ],
 "metadata": {
  "kernelspec": {
   "display_name": "base",
   "language": "python",
   "name": "python3"
  },
  "language_info": {
   "codemirror_mode": {
    "name": "ipython",
    "version": 3
   },
   "file_extension": ".py",
   "mimetype": "text/x-python",
   "name": "python",
   "nbconvert_exporter": "python",
   "pygments_lexer": "ipython3",
   "version": "3.9.7"
  }
 },
 "nbformat": 4,
 "nbformat_minor": 2
}
